{
  "nbformat": 4,
  "nbformat_minor": 0,
  "metadata": {
    "colab": {
      "provenance": [],
      "authorship_tag": "ABX9TyO8Fzv/JglmevWHZMcREL56",
      "include_colab_link": true
    },
    "kernelspec": {
      "name": "python3",
      "display_name": "Python 3"
    },
    "language_info": {
      "name": "python"
    }
  },
  "cells": [
    {
      "cell_type": "markdown",
      "metadata": {
        "id": "view-in-github",
        "colab_type": "text"
      },
      "source": [
        "<a href=\"https://colab.research.google.com/github/shorya-ag/Advance_Python_Assignment/blob/main/Assignment3_Q1-5.ipynb\" target=\"_parent\"><img src=\"https://colab.research.google.com/assets/colab-badge.svg\" alt=\"Open In Colab\"/></a>"
      ]
    },
    {
      "cell_type": "markdown",
      "source": [
        "# **PROCESS AUTOMATION**"
      ],
      "metadata": {
        "id": "fCcHXjzET9rM"
      }
    },
    {
      "cell_type": "markdown",
      "source": [
        "Q1. Create a file that contains 1000 lines of random strings"
      ],
      "metadata": {
        "id": "ZDuc6tZrXd0T"
      }
    },
    {
      "cell_type": "code",
      "source": [
        "import string as s\n",
        "import random as r\n",
        "fp = open('random.txt','w')\n",
        "for i in range(1000):\n",
        "  line = r.sample(s.ascii_letters,50)\n",
        "  lines = \"\".join(line)\n",
        "  fp.write(lines)\n",
        "  fp.write(\"\\n\")\n",
        "fp.close()    \n",
        "  \n"
      ],
      "metadata": {
        "id": "4B8O0KzUXedt"
      },
      "execution_count": 8,
      "outputs": []
    },
    {
      "cell_type": "markdown",
      "source": [
        "Q2. Create a file that contains multiple lines of random strings and file size must be 5 MB."
      ],
      "metadata": {
        "id": "YXWeqWPybc-u"
      }
    },
    {
      "cell_type": "code",
      "source": [
        "import random as r\n",
        "import string as s\n",
        "fp = open('Question2.txt','w')\n",
        "file_size = 5*1024*1024\n",
        "with fp as file:\n",
        "  while file.tell() <= file_size:\n",
        "    line = r.sample(s.ascii_letters,50)\n",
        "    lines = \"\".join(line)\n",
        "    file.write(lines + \"\\n\")\n",
        "fp.close()    \n",
        "\n"
      ],
      "metadata": {
        "id": "WOBVuFcjbh5i"
      },
      "execution_count": 11,
      "outputs": []
    },
    {
      "cell_type": "markdown",
      "source": [
        "q3. Create 10 files that contains multiple lines of random strings and file size of each file must be 5 MB"
      ],
      "metadata": {
        "id": "qD3oEnoWGItv"
      }
    },
    {
      "cell_type": "code",
      "source": [
        "import random as r \n",
        "import string as s\n",
        "file_size = 5*1024*1024\n",
        "for i in range(1,11):\n",
        "  file_name = f'FileNumber{i}.txt'\n",
        "  with open(file_name,'w') as file:\n",
        "    while file.tell() <= file_size :\n",
        "      line = r.sample(s.ascii_letters,30)\n",
        "      lines = \"\".join(line)\n",
        "      file.write(lines)\n",
        "    \n",
        "      \n"
      ],
      "metadata": {
        "id": "3PXVOEXqGOpY"
      },
      "execution_count": 30,
      "outputs": []
    },
    {
      "cell_type": "markdown",
      "source": [
        "Q4. Create 5 files of size 1GB, 2GB, 3GB, 4GB and 5GB; file contains multiple lines of random strings"
      ],
      "metadata": {
        "id": "GfCS2ub6MTnh"
      }
    },
    {
      "cell_type": "code",
      "source": [
        "import random as r\n",
        "import string as s\n",
        "for i in range(1,6):\n",
        "  file_size = i*1024*1024\n",
        "  file_name = f'File_Number{i} of size {i}GB.txt'\n",
        "  with open(file_name,'w') as file:\n",
        "      while file.tell() <= file_size:\n",
        "        line = r.sample(s.ascii_letters,40)\n",
        "        lines = \"\".join(line)\n",
        "        file.write(lines)\n",
        "      file.close()\n",
        "\n"
      ],
      "metadata": {
        "id": "qIdbbI0mMZdm"
      },
      "execution_count": 58,
      "outputs": []
    },
    {
      "cell_type": "markdown",
      "source": [
        "Q5. Convert all the files of Q4 into upper case one by one.\n"
      ],
      "metadata": {
        "id": "qTwPMapCPgJ2"
      }
    },
    {
      "cell_type": "code",
      "source": [
        "for i in range(1,6):\n",
        "  fp_read = open(f'File_Number{i} of size {i}GB.txt')\n",
        "for j in range(1,6):\n",
        "  fp_write = open(f'file_number{j} of size {j}GB.txt','w')\n",
        "  for line in fp_read:\n",
        "    fp_write.write(line.upper())\n",
        "fp_write.close()\n",
        "fp_read.close()    \n",
        "   \n"
      ],
      "metadata": {
        "id": "ORFwFpEIPkA1"
      },
      "execution_count": 59,
      "outputs": []
    }
  ]
}